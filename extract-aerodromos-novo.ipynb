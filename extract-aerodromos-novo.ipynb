{
 "cells": [
  {
   "cell_type": "markdown",
   "id": "c1b1cf0d-0bb9-40cc-90a1-09ab1920832f",
   "metadata": {},
   "source": [
    "# Baixa estruturas de aeroportos como GeoJSON\n",
    "\n",
    "Author: [Carlos M. Abreu](magno.mabreu@gmail.com)"
   ]
  },
  {
   "cell_type": "code",
   "execution_count": 1,
   "id": "1e920dcc-fd67-400d-9e9b-df0c56fc273c",
   "metadata": {},
   "outputs": [],
   "source": [
    "import osmnx as ox\n",
    "import shapely\n",
    "import geopandas"
   ]
  },
  {
   "cell_type": "code",
   "execution_count": 2,
   "id": "2c219ffb-5ba1-4bc4-bf18-0e0421a42013",
   "metadata": {},
   "outputs": [],
   "source": [
    "# north, south, east, west\n",
    "# gdf = ox.geometries_from_bbox( 5.79, -33.87, -31.20, -74.09 , paises)"
   ]
  },
  {
   "cell_type": "code",
   "execution_count": 3,
   "id": "29010d10-5557-41ac-9520-6b58e0d3eaa5",
   "metadata": {},
   "outputs": [],
   "source": [
    "predios = {\"building\": True}\n",
    "outros = {\"amenity\": True, \"landuse\": [\"retail\", \"commercial\"], \"highway\": \"bus_stop\"}\n",
    "aerodromos = {\"aeroway\" : [\"runway\",\"jet_bridge\",\"landing_light\",\"construction\",\"shelter\",\"aerodrome\",\"beacon\",\"taxiway\",\"apron\",\"control_tower\",\"control_center\",\"gate\",\"hangar\",\"helipad\",\"heliport\",\"navigationaid\",\"taxilane\",\"terminal\",\"windsock\",\"highway_strip\",\"parking_position\",\"holding_position\",\"airstrip\",\"stopway\",\"tower\"]}"
   ]
  },
  {
   "cell_type": "code",
   "execution_count": 4,
   "id": "da139cd5-2c58-404b-8d2e-6bc8ff988b15",
   "metadata": {},
   "outputs": [],
   "source": [
    "airport_icao_code = \"São Pedro da Aldeia\" "
   ]
  },
  {
   "cell_type": "code",
   "execution_count": 5,
   "id": "e838d6d4-44fe-4a9b-834c-e7cd8ace9bc2",
   "metadata": {},
   "outputs": [
    {
     "name": "stderr",
     "output_type": "stream",
     "text": [
      "/opt/conda/lib/python3.9/site-packages/osmnx/utils_geo.py:335: ShapelyDeprecationWarning: Iteration over multi-part geometries is deprecated and will be removed in Shapely 2.0. Use the `geoms` property to access the constituent parts of a multi-part geometry.\n",
      "  for polygon in geometry:\n",
      "/opt/conda/lib/python3.9/site-packages/osmnx/utils_geo.py:426: ShapelyDeprecationWarning: Iteration over multi-part geometries is deprecated and will be removed in Shapely 2.0. Use the `geoms` property to access the constituent parts of a multi-part geometry.\n",
      "  for poly in multipoly:\n"
     ]
    }
   ],
   "source": [
    "# Busca os componentes do aeródromo\n",
    "gdf = ox.geometries.geometries_from_place(airport_icao_code, aerodromos)\n",
    "if 'nodes' in gdf.columns: gdf.drop('nodes', axis='columns', inplace=True)\n",
    "if 'ways' in gdf.columns: gdf.drop('ways', axis='columns', inplace=True)"
   ]
  },
  {
   "cell_type": "code",
   "execution_count": 6,
   "id": "021d9e91-a5aa-48de-b050-13a5e692a22d",
   "metadata": {},
   "outputs": [
    {
     "data": {
      "image/png": "[encoded data removed]",
      "text/plain": [
       "<Figure size 720x720 with 1 Axes>"
      ]
     },
     "metadata": {},
     "output_type": "display_data"
    }
   ],
   "source": [
    "# Prévia do resultado\n",
    "fig, ax = ox.plot_footprints(gdf, figsize=(10, 10))"
   ]
  },
  {
   "cell_type": "code",
   "execution_count": 7,
   "id": "50052e8a-1810-47d9-b6f5-804e5a474d46",
   "metadata": {},
   "outputs": [],
   "source": [
    "# Salva as geometrias como GeoJson\n",
    "gdf.to_file(airport_icao_code + '.geojson', driver='GeoJSON')"
   ]
  },
  {
   "cell_type": "markdown",
   "id": "80902e0e-1564-4d56-bd25-a4d021f81ca6",
   "metadata": {},
   "source": [
    "Agora coleta todos os edifícios na área do aeródromo"
   ]
  },
  {
   "cell_type": "code",
   "execution_count": 8,
   "id": "421216b5-cf1b-4f3e-bf76-826c4c595239",
   "metadata": {},
   "outputs": [],
   "source": [
    "# cria um bounding box do aeródromo\n",
    "bound = shapely.geometry.box(*gdf.total_bounds)\n",
    "# print(bound)\n",
    "# bound"
   ]
  },
  {
   "cell_type": "code",
   "execution_count": 9,
   "id": "0bb27556-5cc4-448d-9563-1a1b3b1b235c",
   "metadata": {},
   "outputs": [],
   "source": [
    "bbuffer = bound.buffer( 0.025, resolution=2, )\n",
    "# print( bbuffer )\n",
    "# bbuffer"
   ]
  },
  {
   "cell_type": "code",
   "execution_count": 10,
   "id": "17158e5b-7073-460d-a324-0252257086b8",
   "metadata": {},
   "outputs": [],
   "source": [
    "df = geopandas.GeoDataFrame({'geometry': [bbuffer]},crs=4326)\n",
    "newbound = shapely.geometry.box(*df.total_bounds)\n",
    "# print( newbound )\n",
    "# newbound"
   ]
  },
  {
   "cell_type": "code",
   "execution_count": 11,
   "id": "eda48206-f675-4d52-a8ab-e59ffe7b46b7",
   "metadata": {},
   "outputs": [
    {
     "name": "stderr",
     "output_type": "stream",
     "text": [
      "/opt/conda/lib/python3.9/site-packages/osmnx/utils_geo.py:335: ShapelyDeprecationWarning: Iteration over multi-part geometries is deprecated and will be removed in Shapely 2.0. Use the `geoms` property to access the constituent parts of a multi-part geometry.\n",
      "  for polygon in geometry:\n",
      "/opt/conda/lib/python3.9/site-packages/osmnx/utils_geo.py:426: ShapelyDeprecationWarning: Iteration over multi-part geometries is deprecated and will be removed in Shapely 2.0. Use the `geoms` property to access the constituent parts of a multi-part geometry.\n",
      "  for poly in multipoly:\n"
     ]
    }
   ],
   "source": [
    "# busca os edifícios dentro deste retângulo\n",
    "gdf_predios = ox.geometries_from_polygon(newbound, predios)\n",
    "if 'nodes' in gdf_predios.columns: gdf_predios.drop('nodes', axis='columns', inplace=True)\n",
    "if 'ways' in gdf_predios.columns: gdf_predios.drop('ways', axis='columns', inplace=True)"
   ]
  },
  {
   "cell_type": "code",
   "execution_count": 12,
   "id": "994ab41d-45b3-47fc-bd24-d81c52bf5228",
   "metadata": {},
   "outputs": [
    {
     "data": {
      "image/png": "[encoded data removed]",
      "text/plain": [
       "<Figure size 720x720 with 1 Axes>"
      ]
     },
     "metadata": {},
     "output_type": "display_data"
    }
   ],
   "source": [
    "# Prévia do resultado\n",
    "ff, aa = ox.plot_footprints(gdf_predios, figsize=(10, 10))"
   ]
  },
  {
   "cell_type": "code",
   "execution_count": 13,
   "id": "a03a2284-91e8-45eb-9046-b71f69b817e3",
   "metadata": {},
   "outputs": [],
   "source": [
    "# Salva como GeoJSON\n",
    "gdf_predios.to_file(airport_icao_code + '-predios.geojson', driver='GeoJSON')"
   ]
  }
 ],
 "metadata": {
  "kernelspec": {
   "display_name": "Python (ox)",
   "language": "python",
   "name": "ox"
  },
  "language_info": {
   "codemirror_mode": {
    "name": "ipython",
    "version": 3
   },
   "file_extension": ".py",
   "mimetype": "text/x-python",
   "name": "python",
   "nbconvert_exporter": "python",
   "pygments_lexer": "ipython3",
   "version": "3.9.7"
  }
 },
 "nbformat": 4,
 "nbformat_minor": 5
}
